{
 "cells": [
  {
   "cell_type": "markdown",
   "id": "b9aac4e6",
   "metadata": {},
   "source": [
    "# Download Data"
   ]
  },
  {
   "cell_type": "code",
   "execution_count": 1,
   "id": "ea9450e1",
   "metadata": {},
   "outputs": [
    {
     "name": "stderr",
     "output_type": "stream",
     "text": [
      "C:\\Users\\ACER\\anaconda3\\lib\\site-packages\\scipy\\__init__.py:146: UserWarning: A NumPy version >=1.16.5 and <1.23.0 is required for this version of SciPy (detected version 1.26.0\n",
      "  warnings.warn(f\"A NumPy version >={np_minversion} and <{np_maxversion}\"\n"
     ]
    }
   ],
   "source": [
    "import numpy as np\n",
    "from sklearn.model_selection import train_test_split\n",
    "from sklearn.metrics import roc_curve, roc_auc_score, accuracy_score, confusion_matrix\n",
    "import tensorflow as tf\n",
    "from tensorflow import keras\n",
    "from tensorflow.keras import layers\n",
    "from sklearn.model_selection import RandomizedSearchCV\n",
    "import matplotlib.pyplot as plt\n",
    "import pandas as pd\n",
    "from sklearn.metrics import confusion_matrix, roc_auc_score, roc_curve"
   ]
  },
  {
   "cell_type": "code",
   "execution_count": 2,
   "id": "346b958b",
   "metadata": {},
   "outputs": [
    {
     "data": {
      "text/html": [
       "<div>\n",
       "<style scoped>\n",
       "    .dataframe tbody tr th:only-of-type {\n",
       "        vertical-align: middle;\n",
       "    }\n",
       "\n",
       "    .dataframe tbody tr th {\n",
       "        vertical-align: top;\n",
       "    }\n",
       "\n",
       "    .dataframe thead th {\n",
       "        text-align: right;\n",
       "    }\n",
       "</style>\n",
       "<table border=\"1\" class=\"dataframe\">\n",
       "  <thead>\n",
       "    <tr style=\"text-align: right;\">\n",
       "      <th></th>\n",
       "      <th>outcome</th>\n",
       "      <th>pregnancies</th>\n",
       "      <th>glucose</th>\n",
       "      <th>blood_pressure</th>\n",
       "      <th>skin_thickness</th>\n",
       "      <th>insulin</th>\n",
       "      <th>bmi</th>\n",
       "      <th>diabetes_pedigree_function</th>\n",
       "      <th>age</th>\n",
       "    </tr>\n",
       "  </thead>\n",
       "  <tbody>\n",
       "    <tr>\n",
       "      <th>0</th>\n",
       "      <td>-1</td>\n",
       "      <td>-0.294118</td>\n",
       "      <td>0.487437</td>\n",
       "      <td>0.180328</td>\n",
       "      <td>-0.292929</td>\n",
       "      <td>-1.000000</td>\n",
       "      <td>0.001490</td>\n",
       "      <td>-0.531170</td>\n",
       "      <td>-0.033333</td>\n",
       "    </tr>\n",
       "    <tr>\n",
       "      <th>1</th>\n",
       "      <td>1</td>\n",
       "      <td>-0.882353</td>\n",
       "      <td>-0.145729</td>\n",
       "      <td>0.081967</td>\n",
       "      <td>-0.414141</td>\n",
       "      <td>-1.000000</td>\n",
       "      <td>-0.207153</td>\n",
       "      <td>-0.766866</td>\n",
       "      <td>-0.666667</td>\n",
       "    </tr>\n",
       "    <tr>\n",
       "      <th>2</th>\n",
       "      <td>-1</td>\n",
       "      <td>-0.058824</td>\n",
       "      <td>0.839196</td>\n",
       "      <td>0.049180</td>\n",
       "      <td>-1.000000</td>\n",
       "      <td>-1.000000</td>\n",
       "      <td>-0.305514</td>\n",
       "      <td>-0.492741</td>\n",
       "      <td>-0.633333</td>\n",
       "    </tr>\n",
       "    <tr>\n",
       "      <th>3</th>\n",
       "      <td>1</td>\n",
       "      <td>-0.882353</td>\n",
       "      <td>-0.105528</td>\n",
       "      <td>0.081967</td>\n",
       "      <td>-0.535354</td>\n",
       "      <td>-0.777778</td>\n",
       "      <td>-0.162444</td>\n",
       "      <td>-0.923997</td>\n",
       "      <td>-1.000000</td>\n",
       "    </tr>\n",
       "    <tr>\n",
       "      <th>4</th>\n",
       "      <td>-1</td>\n",
       "      <td>-1.000000</td>\n",
       "      <td>0.376884</td>\n",
       "      <td>-0.344262</td>\n",
       "      <td>-0.292929</td>\n",
       "      <td>-0.602837</td>\n",
       "      <td>0.284650</td>\n",
       "      <td>0.887276</td>\n",
       "      <td>-0.600000</td>\n",
       "    </tr>\n",
       "    <tr>\n",
       "      <th>...</th>\n",
       "      <td>...</td>\n",
       "      <td>...</td>\n",
       "      <td>...</td>\n",
       "      <td>...</td>\n",
       "      <td>...</td>\n",
       "      <td>...</td>\n",
       "      <td>...</td>\n",
       "      <td>...</td>\n",
       "      <td>...</td>\n",
       "    </tr>\n",
       "    <tr>\n",
       "      <th>763</th>\n",
       "      <td>1</td>\n",
       "      <td>0.176471</td>\n",
       "      <td>0.015075</td>\n",
       "      <td>0.245902</td>\n",
       "      <td>-0.030303</td>\n",
       "      <td>-0.574468</td>\n",
       "      <td>-0.019374</td>\n",
       "      <td>-0.920581</td>\n",
       "      <td>0.400000</td>\n",
       "    </tr>\n",
       "    <tr>\n",
       "      <th>764</th>\n",
       "      <td>1</td>\n",
       "      <td>-0.764706</td>\n",
       "      <td>0.226131</td>\n",
       "      <td>0.147541</td>\n",
       "      <td>-0.454545</td>\n",
       "      <td>-1.000000</td>\n",
       "      <td>0.096870</td>\n",
       "      <td>-0.776260</td>\n",
       "      <td>-0.800000</td>\n",
       "    </tr>\n",
       "    <tr>\n",
       "      <th>765</th>\n",
       "      <td>1</td>\n",
       "      <td>-0.411765</td>\n",
       "      <td>0.216080</td>\n",
       "      <td>0.180328</td>\n",
       "      <td>-0.535354</td>\n",
       "      <td>-0.735225</td>\n",
       "      <td>-0.219076</td>\n",
       "      <td>-0.857387</td>\n",
       "      <td>-0.700000</td>\n",
       "    </tr>\n",
       "    <tr>\n",
       "      <th>766</th>\n",
       "      <td>-1</td>\n",
       "      <td>-0.882353</td>\n",
       "      <td>0.266332</td>\n",
       "      <td>-0.016393</td>\n",
       "      <td>-1.000000</td>\n",
       "      <td>-1.000000</td>\n",
       "      <td>-0.102832</td>\n",
       "      <td>-0.768574</td>\n",
       "      <td>-0.133333</td>\n",
       "    </tr>\n",
       "    <tr>\n",
       "      <th>767</th>\n",
       "      <td>1</td>\n",
       "      <td>-0.882353</td>\n",
       "      <td>-0.065327</td>\n",
       "      <td>0.147541</td>\n",
       "      <td>-0.373737</td>\n",
       "      <td>-1.000000</td>\n",
       "      <td>-0.093890</td>\n",
       "      <td>-0.797609</td>\n",
       "      <td>-0.933333</td>\n",
       "    </tr>\n",
       "  </tbody>\n",
       "</table>\n",
       "<p>768 rows × 9 columns</p>\n",
       "</div>"
      ],
      "text/plain": [
       "     outcome  pregnancies   glucose  blood_pressure  skin_thickness   insulin  \\\n",
       "0         -1    -0.294118  0.487437        0.180328       -0.292929 -1.000000   \n",
       "1          1    -0.882353 -0.145729        0.081967       -0.414141 -1.000000   \n",
       "2         -1    -0.058824  0.839196        0.049180       -1.000000 -1.000000   \n",
       "3          1    -0.882353 -0.105528        0.081967       -0.535354 -0.777778   \n",
       "4         -1    -1.000000  0.376884       -0.344262       -0.292929 -0.602837   \n",
       "..       ...          ...       ...             ...             ...       ...   \n",
       "763        1     0.176471  0.015075        0.245902       -0.030303 -0.574468   \n",
       "764        1    -0.764706  0.226131        0.147541       -0.454545 -1.000000   \n",
       "765        1    -0.411765  0.216080        0.180328       -0.535354 -0.735225   \n",
       "766       -1    -0.882353  0.266332       -0.016393       -1.000000 -1.000000   \n",
       "767        1    -0.882353 -0.065327        0.147541       -0.373737 -1.000000   \n",
       "\n",
       "          bmi  diabetes_pedigree_function       age  \n",
       "0    0.001490                   -0.531170 -0.033333  \n",
       "1   -0.207153                   -0.766866 -0.666667  \n",
       "2   -0.305514                   -0.492741 -0.633333  \n",
       "3   -0.162444                   -0.923997 -1.000000  \n",
       "4    0.284650                    0.887276 -0.600000  \n",
       "..        ...                         ...       ...  \n",
       "763 -0.019374                   -0.920581  0.400000  \n",
       "764  0.096870                   -0.776260 -0.800000  \n",
       "765 -0.219076                   -0.857387 -0.700000  \n",
       "766 -0.102832                   -0.768574 -0.133333  \n",
       "767 -0.093890                   -0.797609 -0.933333  \n",
       "\n",
       "[768 rows x 9 columns]"
      ]
     },
     "execution_count": 2,
     "metadata": {},
     "output_type": "execute_result"
    }
   ],
   "source": [
    "# open file txt and using list to store data\n",
    "file_path = \"diabetes_scale.txt\"  # file path\n",
    "data = [] \n",
    "\n",
    "# Open and read the \"diabetes_scale.txt\" file\n",
    "with open(file_path, \"r\") as file:\n",
    "    for line in file:\n",
    "        # Split each line into individual values\n",
    "        values = line.strip().split()\n",
    "\n",
    "        # Initialize a dictionary to store the data for this line\n",
    "        data_dict = {}\n",
    "\n",
    "        # The first value is the outcome\n",
    "        data_dict['outcome'] = int(values[0])\n",
    "\n",
    "        # Parse the rest of the values and map them to column names\n",
    "        for pair in values[1:]:\n",
    "            index, value = pair.split(':')\n",
    "            column_name = {\n",
    "                '1': 'pregnancies',\n",
    "                '2': 'glucose',\n",
    "                '3': 'blood_pressure',\n",
    "                '4': 'skin_thickness',\n",
    "                '5': 'insulin',\n",
    "                '6': 'bmi',\n",
    "                '7': 'diabetes_pedigree_function',\n",
    "                '8': 'age'\n",
    "            }[index]\n",
    "            data_dict[column_name] = float(value)\n",
    "\n",
    "        # Append the dictionary to the cleaned_data list\n",
    "        data.append(data_dict)\n",
    "\n",
    "# Convert the list of dictionaries into a pandas DataFrame\n",
    "cleaned_data = pd.DataFrame(data)\n",
    "cleaned_data"
   ]
  },
  {
   "cell_type": "markdown",
   "id": "47765d2e",
   "metadata": {},
   "source": [
    "# Cleaning Data"
   ]
  },
  {
   "cell_type": "markdown",
   "id": "3aa9fa1c",
   "metadata": {},
   "source": [
    "Missing value will be detected. After that, histrogram will be plotted to analyse distribution to impute missing value. If distribution is not symetic, missing value will be imputed by mode of data. If distribution is symetic, missing value will be imputed by median of data."
   ]
  },
  {
   "cell_type": "code",
   "execution_count": 3,
   "id": "44e122fb",
   "metadata": {},
   "outputs": [
    {
     "data": {
      "text/plain": [
       "outcome                       0\n",
       "pregnancies                   0\n",
       "glucose                       0\n",
       "blood_pressure                1\n",
       "skin_thickness                0\n",
       "insulin                       0\n",
       "bmi                           0\n",
       "diabetes_pedigree_function    0\n",
       "age                           8\n",
       "dtype: int64"
      ]
     },
     "execution_count": 3,
     "metadata": {},
     "output_type": "execute_result"
    }
   ],
   "source": [
    "# check missing value\n",
    "cleaned_data.isnull().sum()"
   ]
  },
  {
   "cell_type": "markdown",
   "id": "97278093",
   "metadata": {},
   "source": [
    "The blood_pressure and the age  contain missing value."
   ]
  },
  {
   "cell_type": "markdown",
   "id": "51bf4157",
   "metadata": {},
   "source": [
    "### Ploting distribution"
   ]
  },
  {
   "cell_type": "code",
   "execution_count": 4,
   "id": "0cb6a9d5",
   "metadata": {},
   "outputs": [
    {
     "data": {
      "image/png": "[encoded data removed]",
      "text/plain": [
       "<Figure size 432x1728 with 9 Axes>"
      ]
     },
     "metadata": {
      "needs_background": "light"
     },
     "output_type": "display_data"
    }
   ],
   "source": [
    "# Create a figure with subplots for each column\n",
    "fig, axes = plt.subplots(len(cleaned_data.columns), 1, figsize=(6, 24))\n",
    "\n",
    "# Iterate through each column and create a histogram subplot\n",
    "for i, column in enumerate(cleaned_data.columns):\n",
    "    axes[i].hist(cleaned_data[column], bins=15, alpha=0.7)\n",
    "    axes[i].set_xlabel(column.capitalize())  # Set the column name as the x-axis label\n",
    "    axes[i].set_ylabel('Frequency')\n",
    "    axes[i].set_title(f'{column.capitalize()} Distribution')\n",
    "\n",
    "# Adjust spacing between subplots\n",
    "plt.tight_layout()\n",
    "\n",
    "# Show the individual plots\n",
    "plt.show()"
   ]
  },
  {
   "cell_type": "markdown",
   "id": "64fde6bd",
   "metadata": {},
   "source": [
    "Since the blood_pressure and the age has missing value and has normal distribution (with outliers) and right skewed distribution  , respectively. Thus, missing value of blood_pressure will be imputed by mean of blood_pressure, while missing value of age will be imputed by mode of age."
   ]
  },
  {
   "cell_type": "markdown",
   "id": "f6e03625",
   "metadata": {},
   "source": [
    "### Imputing missing value"
   ]
  },
  {
   "cell_type": "code",
   "execution_count": 5,
   "id": "fb425eb3",
   "metadata": {},
   "outputs": [
    {
     "data": {
      "text/plain": [
       "outcome                       0\n",
       "pregnancies                   0\n",
       "glucose                       0\n",
       "blood_pressure                0\n",
       "skin_thickness                0\n",
       "insulin                       0\n",
       "bmi                           0\n",
       "diabetes_pedigree_function    0\n",
       "age                           0\n",
       "dtype: int64"
      ]
     },
     "execution_count": 5,
     "metadata": {},
     "output_type": "execute_result"
    }
   ],
   "source": [
    "blood_pressure_mean = cleaned_data['blood_pressure'].mean() # mean of blood_pressure\n",
    "age_mode = cleaned_data['age'].mode().values[0] # mode of age\n",
    "\n",
    "# Impute missing values in \"blood_pressure\" with the mean\n",
    "cleaned_data['blood_pressure'].fillna(blood_pressure_mean, inplace=True)\n",
    "\n",
    "# Impute missing values in \"age\" with the mode\n",
    "cleaned_data['age'].fillna(age_mode, inplace=True)\n",
    "\n",
    "# recheck missing value\n",
    "cleaned_data.isnull().sum()"
   ]
  },
  {
   "cell_type": "code",
   "execution_count": 6,
   "id": "276a9a8a",
   "metadata": {},
   "outputs": [
    {
     "data": {
      "text/html": [
       "<div>\n",
       "<style scoped>\n",
       "    .dataframe tbody tr th:only-of-type {\n",
       "        vertical-align: middle;\n",
       "    }\n",
       "\n",
       "    .dataframe tbody tr th {\n",
       "        vertical-align: top;\n",
       "    }\n",
       "\n",
       "    .dataframe thead th {\n",
       "        text-align: right;\n",
       "    }\n",
       "</style>\n",
       "<table border=\"1\" class=\"dataframe\">\n",
       "  <thead>\n",
       "    <tr style=\"text-align: right;\">\n",
       "      <th></th>\n",
       "      <th>outcome</th>\n",
       "      <th>pregnancies</th>\n",
       "      <th>glucose</th>\n",
       "      <th>blood_pressure</th>\n",
       "      <th>skin_thickness</th>\n",
       "      <th>insulin</th>\n",
       "      <th>bmi</th>\n",
       "      <th>diabetes_pedigree_function</th>\n",
       "      <th>age</th>\n",
       "    </tr>\n",
       "  </thead>\n",
       "  <tbody>\n",
       "    <tr>\n",
       "      <th>0</th>\n",
       "      <td>-1</td>\n",
       "      <td>-0.294118</td>\n",
       "      <td>0.487437</td>\n",
       "      <td>0.180328</td>\n",
       "      <td>-0.292929</td>\n",
       "      <td>-1.000000</td>\n",
       "      <td>0.001490</td>\n",
       "      <td>-0.531170</td>\n",
       "      <td>-0.033333</td>\n",
       "    </tr>\n",
       "    <tr>\n",
       "      <th>1</th>\n",
       "      <td>1</td>\n",
       "      <td>-0.882353</td>\n",
       "      <td>-0.145729</td>\n",
       "      <td>0.081967</td>\n",
       "      <td>-0.414141</td>\n",
       "      <td>-1.000000</td>\n",
       "      <td>-0.207153</td>\n",
       "      <td>-0.766866</td>\n",
       "      <td>-0.666667</td>\n",
       "    </tr>\n",
       "    <tr>\n",
       "      <th>2</th>\n",
       "      <td>-1</td>\n",
       "      <td>-0.058824</td>\n",
       "      <td>0.839196</td>\n",
       "      <td>0.049180</td>\n",
       "      <td>-1.000000</td>\n",
       "      <td>-1.000000</td>\n",
       "      <td>-0.305514</td>\n",
       "      <td>-0.492741</td>\n",
       "      <td>-0.633333</td>\n",
       "    </tr>\n",
       "    <tr>\n",
       "      <th>3</th>\n",
       "      <td>1</td>\n",
       "      <td>-0.882353</td>\n",
       "      <td>-0.105528</td>\n",
       "      <td>0.081967</td>\n",
       "      <td>-0.535354</td>\n",
       "      <td>-0.777778</td>\n",
       "      <td>-0.162444</td>\n",
       "      <td>-0.923997</td>\n",
       "      <td>-1.000000</td>\n",
       "    </tr>\n",
       "    <tr>\n",
       "      <th>4</th>\n",
       "      <td>-1</td>\n",
       "      <td>-1.000000</td>\n",
       "      <td>0.376884</td>\n",
       "      <td>-0.344262</td>\n",
       "      <td>-0.292929</td>\n",
       "      <td>-0.602837</td>\n",
       "      <td>0.284650</td>\n",
       "      <td>0.887276</td>\n",
       "      <td>-0.600000</td>\n",
       "    </tr>\n",
       "    <tr>\n",
       "      <th>...</th>\n",
       "      <td>...</td>\n",
       "      <td>...</td>\n",
       "      <td>...</td>\n",
       "      <td>...</td>\n",
       "      <td>...</td>\n",
       "      <td>...</td>\n",
       "      <td>...</td>\n",
       "      <td>...</td>\n",
       "      <td>...</td>\n",
       "    </tr>\n",
       "    <tr>\n",
       "      <th>763</th>\n",
       "      <td>1</td>\n",
       "      <td>0.176471</td>\n",
       "      <td>0.015075</td>\n",
       "      <td>0.245902</td>\n",
       "      <td>-0.030303</td>\n",
       "      <td>-0.574468</td>\n",
       "      <td>-0.019374</td>\n",
       "      <td>-0.920581</td>\n",
       "      <td>0.400000</td>\n",
       "    </tr>\n",
       "    <tr>\n",
       "      <th>764</th>\n",
       "      <td>1</td>\n",
       "      <td>-0.764706</td>\n",
       "      <td>0.226131</td>\n",
       "      <td>0.147541</td>\n",
       "      <td>-0.454545</td>\n",
       "      <td>-1.000000</td>\n",
       "      <td>0.096870</td>\n",
       "      <td>-0.776260</td>\n",
       "      <td>-0.800000</td>\n",
       "    </tr>\n",
       "    <tr>\n",
       "      <th>765</th>\n",
       "      <td>1</td>\n",
       "      <td>-0.411765</td>\n",
       "      <td>0.216080</td>\n",
       "      <td>0.180328</td>\n",
       "      <td>-0.535354</td>\n",
       "      <td>-0.735225</td>\n",
       "      <td>-0.219076</td>\n",
       "      <td>-0.857387</td>\n",
       "      <td>-0.700000</td>\n",
       "    </tr>\n",
       "    <tr>\n",
       "      <th>766</th>\n",
       "      <td>-1</td>\n",
       "      <td>-0.882353</td>\n",
       "      <td>0.266332</td>\n",
       "      <td>-0.016393</td>\n",
       "      <td>-1.000000</td>\n",
       "      <td>-1.000000</td>\n",
       "      <td>-0.102832</td>\n",
       "      <td>-0.768574</td>\n",
       "      <td>-0.133333</td>\n",
       "    </tr>\n",
       "    <tr>\n",
       "      <th>767</th>\n",
       "      <td>1</td>\n",
       "      <td>-0.882353</td>\n",
       "      <td>-0.065327</td>\n",
       "      <td>0.147541</td>\n",
       "      <td>-0.373737</td>\n",
       "      <td>-1.000000</td>\n",
       "      <td>-0.093890</td>\n",
       "      <td>-0.797609</td>\n",
       "      <td>-0.933333</td>\n",
       "    </tr>\n",
       "  </tbody>\n",
       "</table>\n",
       "<p>768 rows × 9 columns</p>\n",
       "</div>"
      ],
      "text/plain": [
       "     outcome  pregnancies   glucose  blood_pressure  skin_thickness   insulin  \\\n",
       "0         -1    -0.294118  0.487437        0.180328       -0.292929 -1.000000   \n",
       "1          1    -0.882353 -0.145729        0.081967       -0.414141 -1.000000   \n",
       "2         -1    -0.058824  0.839196        0.049180       -1.000000 -1.000000   \n",
       "3          1    -0.882353 -0.105528        0.081967       -0.535354 -0.777778   \n",
       "4         -1    -1.000000  0.376884       -0.344262       -0.292929 -0.602837   \n",
       "..       ...          ...       ...             ...             ...       ...   \n",
       "763        1     0.176471  0.015075        0.245902       -0.030303 -0.574468   \n",
       "764        1    -0.764706  0.226131        0.147541       -0.454545 -1.000000   \n",
       "765        1    -0.411765  0.216080        0.180328       -0.535354 -0.735225   \n",
       "766       -1    -0.882353  0.266332       -0.016393       -1.000000 -1.000000   \n",
       "767        1    -0.882353 -0.065327        0.147541       -0.373737 -1.000000   \n",
       "\n",
       "          bmi  diabetes_pedigree_function       age  \n",
       "0    0.001490                   -0.531170 -0.033333  \n",
       "1   -0.207153                   -0.766866 -0.666667  \n",
       "2   -0.305514                   -0.492741 -0.633333  \n",
       "3   -0.162444                   -0.923997 -1.000000  \n",
       "4    0.284650                    0.887276 -0.600000  \n",
       "..        ...                         ...       ...  \n",
       "763 -0.019374                   -0.920581  0.400000  \n",
       "764  0.096870                   -0.776260 -0.800000  \n",
       "765 -0.219076                   -0.857387 -0.700000  \n",
       "766 -0.102832                   -0.768574 -0.133333  \n",
       "767 -0.093890                   -0.797609 -0.933333  \n",
       "\n",
       "[768 rows x 9 columns]"
      ]
     },
     "execution_count": 6,
     "metadata": {},
     "output_type": "execute_result"
    }
   ],
   "source": [
    "# Check format of data\n",
    "cleaned_data"
   ]
  },
  {
   "cell_type": "markdown",
   "id": "fe9bfaf5",
   "metadata": {},
   "source": [
    "The outcome is labelled -1 and 1.   1 in outcome has to be 0 and -1 in outcome has to be 1. Thus, -1 and 1 will be replaced by 1 and 0, respectively."
   ]
  },
  {
   "cell_type": "code",
   "execution_count": 7,
   "id": "225cbe7c",
   "metadata": {},
   "outputs": [
    {
     "data": {
      "text/html": [
       "<div>\n",
       "<style scoped>\n",
       "    .dataframe tbody tr th:only-of-type {\n",
       "        vertical-align: middle;\n",
       "    }\n",
       "\n",
       "    .dataframe tbody tr th {\n",
       "        vertical-align: top;\n",
       "    }\n",
       "\n",
       "    .dataframe thead th {\n",
       "        text-align: right;\n",
       "    }\n",
       "</style>\n",
       "<table border=\"1\" class=\"dataframe\">\n",
       "  <thead>\n",
       "    <tr style=\"text-align: right;\">\n",
       "      <th></th>\n",
       "      <th>outcome</th>\n",
       "      <th>pregnancies</th>\n",
       "      <th>glucose</th>\n",
       "      <th>blood_pressure</th>\n",
       "      <th>skin_thickness</th>\n",
       "      <th>insulin</th>\n",
       "      <th>bmi</th>\n",
       "      <th>diabetes_pedigree_function</th>\n",
       "      <th>age</th>\n",
       "    </tr>\n",
       "  </thead>\n",
       "  <tbody>\n",
       "    <tr>\n",
       "      <th>0</th>\n",
       "      <td>1</td>\n",
       "      <td>-0.294118</td>\n",
       "      <td>0.487437</td>\n",
       "      <td>0.180328</td>\n",
       "      <td>-0.292929</td>\n",
       "      <td>-1.000000</td>\n",
       "      <td>0.001490</td>\n",
       "      <td>-0.531170</td>\n",
       "      <td>-0.033333</td>\n",
       "    </tr>\n",
       "    <tr>\n",
       "      <th>1</th>\n",
       "      <td>0</td>\n",
       "      <td>-0.882353</td>\n",
       "      <td>-0.145729</td>\n",
       "      <td>0.081967</td>\n",
       "      <td>-0.414141</td>\n",
       "      <td>-1.000000</td>\n",
       "      <td>-0.207153</td>\n",
       "      <td>-0.766866</td>\n",
       "      <td>-0.666667</td>\n",
       "    </tr>\n",
       "    <tr>\n",
       "      <th>2</th>\n",
       "      <td>1</td>\n",
       "      <td>-0.058824</td>\n",
       "      <td>0.839196</td>\n",
       "      <td>0.049180</td>\n",
       "      <td>-1.000000</td>\n",
       "      <td>-1.000000</td>\n",
       "      <td>-0.305514</td>\n",
       "      <td>-0.492741</td>\n",
       "      <td>-0.633333</td>\n",
       "    </tr>\n",
       "    <tr>\n",
       "      <th>3</th>\n",
       "      <td>0</td>\n",
       "      <td>-0.882353</td>\n",
       "      <td>-0.105528</td>\n",
       "      <td>0.081967</td>\n",
       "      <td>-0.535354</td>\n",
       "      <td>-0.777778</td>\n",
       "      <td>-0.162444</td>\n",
       "      <td>-0.923997</td>\n",
       "      <td>-1.000000</td>\n",
       "    </tr>\n",
       "    <tr>\n",
       "      <th>4</th>\n",
       "      <td>1</td>\n",
       "      <td>-1.000000</td>\n",
       "      <td>0.376884</td>\n",
       "      <td>-0.344262</td>\n",
       "      <td>-0.292929</td>\n",
       "      <td>-0.602837</td>\n",
       "      <td>0.284650</td>\n",
       "      <td>0.887276</td>\n",
       "      <td>-0.600000</td>\n",
       "    </tr>\n",
       "    <tr>\n",
       "      <th>...</th>\n",
       "      <td>...</td>\n",
       "      <td>...</td>\n",
       "      <td>...</td>\n",
       "      <td>...</td>\n",
       "      <td>...</td>\n",
       "      <td>...</td>\n",
       "      <td>...</td>\n",
       "      <td>...</td>\n",
       "      <td>...</td>\n",
       "    </tr>\n",
       "    <tr>\n",
       "      <th>763</th>\n",
       "      <td>0</td>\n",
       "      <td>0.176471</td>\n",
       "      <td>0.015075</td>\n",
       "      <td>0.245902</td>\n",
       "      <td>-0.030303</td>\n",
       "      <td>-0.574468</td>\n",
       "      <td>-0.019374</td>\n",
       "      <td>-0.920581</td>\n",
       "      <td>0.400000</td>\n",
       "    </tr>\n",
       "    <tr>\n",
       "      <th>764</th>\n",
       "      <td>0</td>\n",
       "      <td>-0.764706</td>\n",
       "      <td>0.226131</td>\n",
       "      <td>0.147541</td>\n",
       "      <td>-0.454545</td>\n",
       "      <td>-1.000000</td>\n",
       "      <td>0.096870</td>\n",
       "      <td>-0.776260</td>\n",
       "      <td>-0.800000</td>\n",
       "    </tr>\n",
       "    <tr>\n",
       "      <th>765</th>\n",
       "      <td>0</td>\n",
       "      <td>-0.411765</td>\n",
       "      <td>0.216080</td>\n",
       "      <td>0.180328</td>\n",
       "      <td>-0.535354</td>\n",
       "      <td>-0.735225</td>\n",
       "      <td>-0.219076</td>\n",
       "      <td>-0.857387</td>\n",
       "      <td>-0.700000</td>\n",
       "    </tr>\n",
       "    <tr>\n",
       "      <th>766</th>\n",
       "      <td>1</td>\n",
       "      <td>-0.882353</td>\n",
       "      <td>0.266332</td>\n",
       "      <td>-0.016393</td>\n",
       "      <td>-1.000000</td>\n",
       "      <td>-1.000000</td>\n",
       "      <td>-0.102832</td>\n",
       "      <td>-0.768574</td>\n",
       "      <td>-0.133333</td>\n",
       "    </tr>\n",
       "    <tr>\n",
       "      <th>767</th>\n",
       "      <td>0</td>\n",
       "      <td>-0.882353</td>\n",
       "      <td>-0.065327</td>\n",
       "      <td>0.147541</td>\n",
       "      <td>-0.373737</td>\n",
       "      <td>-1.000000</td>\n",
       "      <td>-0.093890</td>\n",
       "      <td>-0.797609</td>\n",
       "      <td>-0.933333</td>\n",
       "    </tr>\n",
       "  </tbody>\n",
       "</table>\n",
       "<p>768 rows × 9 columns</p>\n",
       "</div>"
      ],
      "text/plain": [
       "     outcome  pregnancies   glucose  blood_pressure  skin_thickness   insulin  \\\n",
       "0          1    -0.294118  0.487437        0.180328       -0.292929 -1.000000   \n",
       "1          0    -0.882353 -0.145729        0.081967       -0.414141 -1.000000   \n",
       "2          1    -0.058824  0.839196        0.049180       -1.000000 -1.000000   \n",
       "3          0    -0.882353 -0.105528        0.081967       -0.535354 -0.777778   \n",
       "4          1    -1.000000  0.376884       -0.344262       -0.292929 -0.602837   \n",
       "..       ...          ...       ...             ...             ...       ...   \n",
       "763        0     0.176471  0.015075        0.245902       -0.030303 -0.574468   \n",
       "764        0    -0.764706  0.226131        0.147541       -0.454545 -1.000000   \n",
       "765        0    -0.411765  0.216080        0.180328       -0.535354 -0.735225   \n",
       "766        1    -0.882353  0.266332       -0.016393       -1.000000 -1.000000   \n",
       "767        0    -0.882353 -0.065327        0.147541       -0.373737 -1.000000   \n",
       "\n",
       "          bmi  diabetes_pedigree_function       age  \n",
       "0    0.001490                   -0.531170 -0.033333  \n",
       "1   -0.207153                   -0.766866 -0.666667  \n",
       "2   -0.305514                   -0.492741 -0.633333  \n",
       "3   -0.162444                   -0.923997 -1.000000  \n",
       "4    0.284650                    0.887276 -0.600000  \n",
       "..        ...                         ...       ...  \n",
       "763 -0.019374                   -0.920581  0.400000  \n",
       "764  0.096870                   -0.776260 -0.800000  \n",
       "765 -0.219076                   -0.857387 -0.700000  \n",
       "766 -0.102832                   -0.768574 -0.133333  \n",
       "767 -0.093890                   -0.797609 -0.933333  \n",
       "\n",
       "[768 rows x 9 columns]"
      ]
     },
     "execution_count": 7,
     "metadata": {},
     "output_type": "execute_result"
    }
   ],
   "source": [
    "previous_data = cleaned_data\n",
    "\n",
    "# Replace 1 with 0 and -1 with 1 in the \"outcome\" column\n",
    "cleaned_data['outcome'] = cleaned_data['outcome'].replace({1: 0, -1: 1})\n",
    "cleaned_data"
   ]
  },
  {
   "cell_type": "markdown",
   "id": "3a08b6cd",
   "metadata": {},
   "source": [
    "# MLP"
   ]
  },
  {
   "cell_type": "markdown",
   "id": "35662c0e",
   "metadata": {},
   "source": [
    "The data will be splitted into training and testing set. MLP is defined using the Keras API from TensorFlow, with the architecture's hyperparameters being adjustable. These hyperparameters include the choice of activation functions (ReLU, Sigmoid, and Tanh), the number of hidden layers, the number of neurons per layer, whether to include batch normalisation, dropout rates, and the regularisation rates for each layer.\n",
    "\n",
    "To optimise these hyperparameters,  Keras Tuner's Random Search method is applied. This method will search through a random selection of possible hyperparameters, train models with these parameters, and then select the best model based on validation accuracy. The Random Search is set to conduct a maximum of 5 trials, with each trial being executed 3 times, to ensure the reliability of the results.\n",
    "\n",
    "Once the search is completed, the code sorts the trials based on their performance. Then, the best model and its associated hyperparameters are identified for each type of activation function (ReLU, Sigmoid, and Tanh) that was considered during the tuning. Finally, the best hyperparameters will be showed for each activation function and provides an opportunity to view the structure of the best-performing model with the ReLU activation."
   ]
  },
  {
   "cell_type": "markdown",
   "id": "bdc0cc1e",
   "metadata": {},
   "source": [
    "## Data preparation"
   ]
  },
  {
   "cell_type": "code",
   "execution_count": 8,
   "id": "8ea32b6a",
   "metadata": {},
   "outputs": [],
   "source": [
    "# set seed\n",
    "np.random.seed(1865050)\n",
    "tf.random.set_seed(1865050)\n",
    "\n",
    "# setting X and Y\n",
    "X = cleaned_data.drop('outcome', axis=1)\n",
    "y = cleaned_data['outcome']\n",
    "\n",
    "# Split data to training set (80%) and testing set(20%) \n",
    "X_train, X_test, y_train, y_test = train_test_split(X, y, test_size=0.2, random_state=1865050, stratify=y)"
   ]
  },
  {
   "cell_type": "markdown",
   "id": "8bc3ff8d",
   "metadata": {},
   "source": [
    "## Hyperparameter tuning using Keras Tuner"
   ]
  },
  {
   "cell_type": "code",
   "execution_count": 9,
   "id": "3891963f",
   "metadata": {},
   "outputs": [
    {
     "name": "stdout",
     "output_type": "stream",
     "text": [
      "Using TensorFlow backend\n"
     ]
    },
    {
     "name": "stderr",
     "output_type": "stream",
     "text": [
      "C:\\Users\\ACER\\AppData\\Local\\Temp\\ipykernel_1808\\464526191.py:1: DeprecationWarning: `import kerastuner` is deprecated, please use `import keras_tuner`.\n",
      "  from kerastuner import RandomSearch\n"
     ]
    },
    {
     "name": "stdout",
     "output_type": "stream",
     "text": [
      "Reloading Tuner from diabetes_mlp\\diabetes\\tuner0.json\n",
      "Best parameters for ReLU: {'activation_function': 'relu', 'units_input': 256, 'reg_rate': 0.006, 'batch_norm_input': False, 'dropout_1': 0.1, 'n_layers': 3, 'units_0': 64, 'reg_rate_0': 0.011, 'batch_norm_0': True, 'learning_rate': 0.001, 'batch_norm_momentum_0': 0.9, 'batch_norm_epsilon_0': 1e-07, 'units_1': 32, 'reg_rate_1': 0.001, 'batch_norm_1': False, 'dropout_2': 0.0, 'units_2': 32, 'reg_rate_2': 0.001, 'batch_norm_2': False, 'dropout_3': 0.0}\n",
      "Best parameters for Sigmoid: {'activation_function': 'sigmoid', 'units_input': 224, 'reg_rate': 0.001, 'batch_norm_input': False, 'dropout_1': 0.1, 'n_layers': 1, 'units_0': 64, 'reg_rate_0': 0.016, 'batch_norm_0': True, 'learning_rate': 0.001, 'batch_norm_momentum_0': 0.98, 'batch_norm_epsilon_0': 1.0499426807036375e-07, 'units_1': 96, 'reg_rate_1': 0.011, 'batch_norm_1': True, 'dropout_2': 0.4, 'units_2': 128, 'reg_rate_2': 0.041, 'batch_norm_2': True, 'dropout_3': 0.2}\n",
      "Best parameters for Tanh: {'activation_function': 'tanh', 'units_input': 128, 'reg_rate': 0.016, 'batch_norm_input': False, 'dropout_1': 0.2, 'n_layers': 4, 'units_0': 32, 'reg_rate_0': 0.046, 'batch_norm_0': True, 'learning_rate': 0.001, 'batch_norm_momentum_0': 0.9400000000000001, 'batch_norm_epsilon_0': 1.6010490463985984e-07, 'units_1': 64, 'reg_rate_1': 0.041, 'batch_norm_1': False, 'dropout_2': 0.2, 'units_2': 32, 'reg_rate_2': 0.036000000000000004, 'batch_norm_2': False, 'dropout_3': 0.0, 'batch_norm_momentum_input': 0.9400000000000001, 'batch_norm_epsilon_input': 1.903474477024735e-07, 'units_3': 32, 'reg_rate_3': 0.001, 'batch_norm_3': False, 'dropout_4': 0.0}\n"
     ]
    }
   ],
   "source": [
    "from kerastuner import RandomSearch\n",
    "import tensorflow as tf\n",
    "from tensorflow.keras import layers\n",
    "\n",
    "def build_model(hp):\n",
    "    model = tf.keras.Sequential()\n",
    "    \n",
    "    activation_choice = hp.Choice('activation_function', ['relu', 'sigmoid', 'tanh'])\n",
    "\n",
    "    # Input layer\n",
    "    model.add(layers.Dense(units=hp.Int('units_input', min_value=64, max_value=256, step=32),\n",
    "                           activation=activation_choice,\n",
    "                           kernel_regularizer=tf.keras.regularizers.l2(hp.Float('reg_rate', 0.001, 0.05, step=0.005)),\n",
    "                           input_shape=(X_train.shape[1],)))\n",
    "    \n",
    "    if hp.Boolean('batch_norm_input'):\n",
    "        model.add(layers.BatchNormalization(\n",
    "            momentum=hp.Float('batch_norm_momentum_input', min_value=0.9, max_value=0.999, step=0.01),\n",
    "            epsilon=hp.Float('batch_norm_epsilon_input', min_value=1e-7, max_value=1e-5, sampling='LOG')\n",
    "        ))\n",
    "    \n",
    "    model.add(layers.Dropout(rate=hp.Float('dropout_1', min_value=0.0, max_value=0.5, step=0.1)))\n",
    "\n",
    "    # Hidden layers\n",
    "    for i in range(hp.Int('n_layers', 1, 4)):\n",
    "        model.add(layers.Dense(units=hp.Int(f'units_{i}', min_value=32, max_value=128, step=32),\n",
    "                               activation=activation_choice,\n",
    "                               kernel_regularizer=tf.keras.regularizers.l2(hp.Float(f'reg_rate_{i}', 0.001, 0.05, step=0.005))))\n",
    "        \n",
    "        if hp.Boolean(f'batch_norm_{i}'):\n",
    "            model.add(layers.BatchNormalization(\n",
    "                momentum=hp.Float(f'batch_norm_momentum_{i}', min_value=0.9, max_value=0.999, step=0.01),\n",
    "                epsilon=hp.Float(f'batch_norm_epsilon_{i}', min_value=1e-7, max_value=1e-5, sampling='LOG')\n",
    "            ))\n",
    "        \n",
    "        model.add(layers.Dropout(rate=hp.Float(f'dropout_{i+1}', min_value=0.0, max_value=0.5, step=0.1)))\n",
    "\n",
    "    # Output layer\n",
    "    model.add(layers.Dense(1, activation='sigmoid'))\n",
    "\n",
    "    model.compile(optimizer=tf.keras.optimizers.Adam(hp.Choice('learning_rate', [1e-2, 1e-3, 1e-4])),\n",
    "                  loss='binary_crossentropy',\n",
    "                  metrics=['accuracy'])\n",
    "\n",
    "    return model\n",
    "\n",
    "tuner = RandomSearch(\n",
    "    build_model,\n",
    "    objective='val_accuracy',\n",
    "    max_trials=5,\n",
    "    executions_per_trial=3,\n",
    "    directory='diabetes_mlp',\n",
    "    project_name='diabetes'\n",
    ")\n",
    "\n",
    "tuner.search(X_train, y_train, epochs=50, validation_split=0.2)\n",
    "\n",
    "# Get all trials and sort by their performance (objective)\n",
    "sorted_trials = sorted(tuner.oracle.trials.values(), key=lambda trial: trial.score, reverse=True)  # Assuming higher is better\n",
    "\n",
    "def get_best_model_and_params_by_condition(condition_key, condition_value):\n",
    "    for trial in sorted_trials:\n",
    "        if trial.hyperparameters.values.get(condition_key) == condition_value:\n",
    "            best_model = tuner.get_best_models(num_models=1)[0]\n",
    "            best_params = trial.hyperparameters.values\n",
    "            return best_model, best_params\n",
    "    return None, None\n",
    "\n",
    "# Get best models for all hyperparameters\n",
    "best_relu_model, best_relu_params = get_best_model_and_params_by_condition('activation_function', 'relu')\n",
    "best_sigmoid_model, best_sigmoid_params = get_best_model_and_params_by_condition('activation_function', 'sigmoid')\n",
    "best_tanh_model, best_tanh_params = get_best_model_and_params_by_condition('activation_function', 'tanh')\n",
    "\n",
    "print(\"Best parameters for ReLU:\", best_relu_params)\n",
    "print(\"Best parameters for Sigmoid:\", best_sigmoid_params)\n",
    "print(\"Best parameters for Tanh:\", best_tanh_params)\n"
   ]
  },
  {
   "cell_type": "markdown",
   "id": "247dc52c",
   "metadata": {},
   "source": [
    "# Evaluation"
   ]
  },
  {
   "cell_type": "markdown",
   "id": "6d66d278",
   "metadata": {},
   "source": [
    "This section involes evaluating the performance of MLP on the training and test datasets. The predicted probabilities are used to construct a Receiver Operating Characteristic (ROC) curve. The ROC curve plots the true positive rate (sensitivity) against the false positive rate (1-specificity)."
   ]
  },
  {
   "cell_type": "markdown",
   "id": "c0fa9c4d",
   "metadata": {},
   "source": [
    "### ROC AUC"
   ]
  },
  {
   "cell_type": "code",
   "execution_count": 10,
   "id": "ccb060ed",
   "metadata": {},
   "outputs": [
    {
     "name": "stdout",
     "output_type": "stream",
     "text": [
      "20/20 [==============================] - 0s 902us/step\n",
      "20/20 [==============================] - 0s 891us/step\n",
      "20/20 [==============================] - 0s 893us/step\n",
      "ReLU: Accuracy: 0.7882736156351792 Sensitivity: 0.7102803738317757 Specificity: 0.83 ROC AUC: 0.8717289719626169\n",
      "Sigmoid: Accuracy: 0.7882736156351792 Sensitivity: 0.7102803738317757 Specificity: 0.83 ROC AUC: 0.8717289719626169\n",
      "Tanh: Accuracy: 0.7882736156351792 Sensitivity: 0.7102803738317757 Specificity: 0.83 ROC AUC: 0.8717289719626169\n",
      "20/20 [==============================] - 0s 942us/step\n",
      "ReLU Model:\n"
     ]
    },
    {
     "data": {
      "image/png": "[encoded data removed]",
      "text/plain": [
       "<Figure size 432x288 with 1 Axes>"
      ]
     },
     "metadata": {
      "needs_background": "light"
     },
     "output_type": "display_data"
    },
    {
     "name": "stdout",
     "output_type": "stream",
     "text": [
      "20/20 [==============================] - 0s 839us/step\n",
      "Sigmoid Model:\n"
     ]
    },
    {
     "data": {
      "image/png": "[encoded data removed]",
      "text/plain": [
       "<Figure size 432x288 with 1 Axes>"
      ]
     },
     "metadata": {
      "needs_background": "light"
     },
     "output_type": "display_data"
    },
    {
     "name": "stdout",
     "output_type": "stream",
     "text": [
      "20/20 [==============================] - 0s 906us/step\n",
      "Tanh Model:\n"
     ]
    },
    {
     "data": {
      "image/png": "[encoded data removed]",
      "text/plain": [
       "<Figure size 432x288 with 1 Axes>"
      ]
     },
     "metadata": {
      "needs_background": "light"
     },
     "output_type": "display_data"
    }
   ],
   "source": [
    "# Predict the train data\n",
    "def predict_data(model, data):\n",
    "    return model.predict(data).flatten()\n",
    "\n",
    "y_pred_relu = predict_data(best_relu_model, X_train)\n",
    "y_pred_sigmoid = predict_data(best_sigmoid_model, X_train)\n",
    "y_pred_tanh = predict_data(best_tanh_model, X_train)\n",
    "\n",
    "# Compute the metrics\n",
    "def get_metrics(y_true, y_pred, threshold=0.5):\n",
    "    y_pred_label = [1 if i > threshold else 0 for i in y_pred]\n",
    "    tn, fp, fn, tp = confusion_matrix(y_true, y_pred_label).ravel()\n",
    "    \n",
    "    accuracy = (tp + tn) / (tp + tn + fp + fn)\n",
    "    sensitivity = tp / (tp + fn)\n",
    "    specificity = tn / (tn + fp)\n",
    "    roc_auc = roc_auc_score(y_true, y_pred)\n",
    "    \n",
    "    return accuracy, sensitivity, specificity, roc_auc\n",
    "\n",
    "metrics_relu = get_metrics(y_train, y_pred_relu)\n",
    "metrics_sigmoid = get_metrics(y_train, y_pred_sigmoid)\n",
    "metrics_tanh = get_metrics(y_train, y_pred_tanh)\n",
    "\n",
    "print(\"ReLU: Accuracy:\", metrics_relu[0], \"Sensitivity:\", metrics_relu[1], \"Specificity:\", metrics_relu[2], \"ROC AUC:\", metrics_relu[3])\n",
    "print(\"Sigmoid: Accuracy:\", metrics_sigmoid[0], \"Sensitivity:\", metrics_sigmoid[1], \"Specificity:\", metrics_sigmoid[2], \"ROC AUC:\", metrics_sigmoid[3])\n",
    "print(\"Tanh: Accuracy:\", metrics_tanh[0], \"Sensitivity:\", metrics_tanh[1], \"Specificity:\", metrics_tanh[2], \"ROC AUC:\", metrics_tanh[3])\n",
    "\n",
    "# Function to plot the ROC curve\n",
    "def plot_roc_curve(outputs, labels):\n",
    "    fpr, tpr, _ = roc_curve(labels, outputs)\n",
    "    roc_auc = roc_auc_score(labels, outputs)\n",
    "\n",
    "    plt.figure()\n",
    "    plt.plot(fpr, tpr, color='darkorange', label=f'ROC curve (area = {roc_auc:.2f})')\n",
    "    plt.plot([0, 1], [0, 1], color='navy', linestyle='--')\n",
    "    plt.xlim([0.0, 1.0])\n",
    "    plt.ylim([0.0, 1.05])\n",
    "    plt.xlabel('False Positive Rate')\n",
    "    plt.ylabel('True Positive Rate')\n",
    "    plt.title('Receiver Operating Characteristic (ROC) Curve')\n",
    "    plt.legend(loc=\"lower right\")\n",
    "    plt.show()\n",
    "\n",
    "# Predictions for the ReLU model\n",
    "y_pred_relu = best_relu_model.predict(X_train).ravel()\n",
    "print(\"ReLU Model:\")\n",
    "plot_roc_curve(y_pred_relu, y_train)\n",
    "\n",
    "# Predictions for the Sigmoid model\n",
    "y_pred_sigmoid = best_sigmoid_model.predict(X_train).ravel()\n",
    "print(\"Sigmoid Model:\")\n",
    "plot_roc_curve(y_pred_sigmoid, y_train)\n",
    "\n",
    "# Predictions for the Tanh model\n",
    "y_pred_tanh = best_tanh_model.predict(X_train).ravel()\n",
    "print(\"Tanh Model:\")\n",
    "plot_roc_curve(y_pred_tanh, y_train)"
   ]
  },
  {
   "cell_type": "code",
   "execution_count": 11,
   "id": "e1593370",
   "metadata": {},
   "outputs": [
    {
     "name": "stdout",
     "output_type": "stream",
     "text": [
      "5/5 [==============================] - 0s 1ms/step\n",
      "5/5 [==============================] - 0s 1ms/step\n",
      "5/5 [==============================] - 0s 998us/step\n",
      "ReLU: Accuracy: 0.7662337662337663 Sensitivity: 0.5740740740740741 Specificity: 0.87 ROC AUC: 0.8346296296296296\n",
      "Sigmoid: Accuracy: 0.7662337662337663 Sensitivity: 0.5740740740740741 Specificity: 0.87 ROC AUC: 0.8346296296296296\n",
      "Tanh: Accuracy: 0.7662337662337663 Sensitivity: 0.5740740740740741 Specificity: 0.87 ROC AUC: 0.8346296296296296\n",
      "5/5 [==============================] - 0s 749us/step\n",
      "ReLU Model:\n"
     ]
    },
    {
     "data": {
      "image/png": "[encoded data removed]",
      "text/plain": [
       "<Figure size 432x288 with 1 Axes>"
      ]
     },
     "metadata": {
      "needs_background": "light"
     },
     "output_type": "display_data"
    },
    {
     "name": "stdout",
     "output_type": "stream",
     "text": [
      "5/5 [==============================] - 0s 999us/step\n",
      "Sigmoid Model:\n"
     ]
    },
    {
     "data": {
      "image/png": "[encoded data removed]",
      "text/plain": [
       "<Figure size 432x288 with 1 Axes>"
      ]
     },
     "metadata": {
      "needs_background": "light"
     },
     "output_type": "display_data"
    },
    {
     "name": "stdout",
     "output_type": "stream",
     "text": [
      "5/5 [==============================] - 0s 998us/step\n",
      "Tanh Model:\n"
     ]
    },
    {
     "data": {
      "image/png": "[encoded data removed]",
      "text/plain": [
       "<Figure size 432x288 with 1 Axes>"
      ]
     },
     "metadata": {
      "needs_background": "light"
     },
     "output_type": "display_data"
    }
   ],
   "source": [
    "y_pred_relu = predict_data(best_relu_model, X_test)\n",
    "y_pred_sigmoid = predict_data(best_sigmoid_model,  X_test)\n",
    "y_pred_tanh = predict_data(best_tanh_model,  X_test)\n",
    "\n",
    "metrics_relu = get_metrics(y_test, y_pred_relu)\n",
    "metrics_sigmoid = get_metrics(y_test, y_pred_sigmoid)\n",
    "metrics_tanh = get_metrics(y_test, y_pred_tanh)\n",
    "\n",
    "print(\"ReLU: Accuracy:\", metrics_relu[0], \"Sensitivity:\", metrics_relu[1], \"Specificity:\", metrics_relu[2], \"ROC AUC:\", metrics_relu[3])\n",
    "print(\"Sigmoid: Accuracy:\", metrics_sigmoid[0], \"Sensitivity:\", metrics_sigmoid[1], \"Specificity:\", metrics_sigmoid[2], \"ROC AUC:\", metrics_sigmoid[3])\n",
    "print(\"Tanh: Accuracy:\", metrics_tanh[0], \"Sensitivity:\", metrics_tanh[1], \"Specificity:\", metrics_tanh[2], \"ROC AUC:\", metrics_tanh[3])\n",
    "\n",
    "# Predictions for the ReLU model\n",
    "y_pred_relu = best_relu_model.predict(X_test).ravel()\n",
    "print(\"ReLU Model:\")\n",
    "plot_roc_curve(y_pred_relu, y_test)\n",
    "\n",
    "# Predictions for the Sigmoid model\n",
    "y_pred_sigmoid = best_sigmoid_model.predict(X_test).ravel()\n",
    "print(\"Sigmoid Model:\")\n",
    "plot_roc_curve(y_pred_sigmoid, y_test)\n",
    "\n",
    "# Predictions for the Tanh model\n",
    "y_pred_tanh = best_tanh_model.predict(X_test).ravel()\n",
    "print(\"Tanh Model:\")\n",
    "plot_roc_curve(y_pred_tanh, y_test)"
   ]
  }
 ],
 "metadata": {
  "kernelspec": {
   "display_name": "Python 3 (ipykernel)",
   "language": "python",
   "name": "python3"
  },
  "language_info": {
   "codemirror_mode": {
    "name": "ipython",
    "version": 3
   },
   "file_extension": ".py",
   "mimetype": "text/x-python",
   "name": "python",
   "nbconvert_exporter": "python",
   "pygments_lexer": "ipython3",
   "version": "3.9.12"
  }
 },
 "nbformat": 4,
 "nbformat_minor": 5
}
